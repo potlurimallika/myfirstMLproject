{
 "cells": [
  {
   "cell_type": "code",
   "execution_count": 2,
   "id": "c0ee138e-d3b5-4bca-a1d5-cc794503903b",
   "metadata": {},
   "outputs": [
    {
     "name": "stdout",
     "output_type": "stream",
     "text": [
      "3\n"
     ]
    }
   ],
   "source": [
    "s='mallika'\n",
    "count=0\n",
    "\n",
    "for i in s:\n",
    "    if i in ('a','e','i','o','u'):\n",
    "        count=count+1\n",
    "print(count)"
   ]
  },
  {
   "cell_type": "code",
   "execution_count": 3,
   "id": "152c935c-2f66-48a8-97b3-d7002d796392",
   "metadata": {},
   "outputs": [
    {
     "name": "stdout",
     "output_type": "stream",
     "text": [
      "1\n",
      "2\n",
      "3\n",
      "4\n",
      "5\n",
      "6\n",
      "7\n",
      "8\n",
      "9\n",
      "10\n"
     ]
    }
   ],
   "source": [
    "s=(1,10)\n",
    "for i in range(1,11):\n",
    "    print(i)"
   ]
  },
  {
   "cell_type": "code",
   "execution_count": 4,
   "id": "9f9b88f6-d494-4a9f-9639-327038a3c1ca",
   "metadata": {},
   "outputs": [
    {
     "name": "stdout",
     "output_type": "stream",
     "text": [
      "1\n",
      "3\n",
      "5\n",
      "7\n",
      "9\n"
     ]
    }
   ],
   "source": [
    "s=(1,10)\n",
    "for i in range(1,11,2):\n",
    "     print(i)"
   ]
  },
  {
   "cell_type": "code",
   "execution_count": 5,
   "id": "3fc3889f-d6d4-493a-8d1a-538776c6d2e1",
   "metadata": {},
   "outputs": [
    {
     "name": "stdout",
     "output_type": "stream",
     "text": [
      "0\n",
      "2\n",
      "4\n",
      "6\n",
      "8\n"
     ]
    }
   ],
   "source": [
    "s=(1,10)\n",
    "for i in range(0,10,2):\n",
    "    print(i)"
   ]
  },
  {
   "cell_type": "code",
   "execution_count": 6,
   "id": "622cf300-0398-43da-8530-9b859cd15b73",
   "metadata": {},
   "outputs": [
    {
     "name": "stdout",
     "output_type": "stream",
     "text": [
      "0\n",
      "5\n",
      "10\n",
      "15\n",
      "20\n",
      "25\n"
     ]
    }
   ],
   "source": [
    "s=(1,30)\n",
    "for i in range(0,30,5):\n",
    "    print(i)"
   ]
  },
  {
   "cell_type": "code",
   "execution_count": 7,
   "id": "e3585d19-855d-403d-afdb-40a9f7c24fde",
   "metadata": {},
   "outputs": [
    {
     "name": "stdout",
     "output_type": "stream",
     "text": [
      "3\n"
     ]
    }
   ],
   "source": [
    "s='mallikaa'\n",
    "count=0\n",
    "\n",
    "for i in s:\n",
    "    if i in 'a':\n",
    "        count=count+1\n",
    "print(count)\n"
   ]
  },
  {
   "cell_type": "code",
   "execution_count": 8,
   "id": "9e9a8693-6798-4dc1-9157-015e569813aa",
   "metadata": {},
   "outputs": [
    {
     "name": "stdout",
     "output_type": "stream",
     "text": [
      "akillam\n"
     ]
    }
   ],
   "source": [
    "str=\"mallika\"\n",
    "print(str[::-1])"
   ]
  },
  {
   "cell_type": "code",
   "execution_count": 9,
   "id": "1ed22e1d-3d27-48f6-8796-9d8234b4cf78",
   "metadata": {},
   "outputs": [
    {
     "name": "stdout",
     "output_type": "stream",
     "text": [
      "7\n",
      "akillam\n",
      "lalitha/mallika\n"
     ]
    }
   ],
   "source": [
    "s='mallika'\n",
    "length=len(s)\n",
    "print(length)\n",
    "for i in range(6,-1,-1):\n",
    "    print(s[i],sep=\"-\",end=\"\")\n",
    "print()\n",
    "print(\"lalitha\",\"mallika\",sep=\"/\")"
   ]
  },
  {
   "cell_type": "code",
   "execution_count": 10,
   "id": "0969a1bd-5fdd-4112-9ffa-dc85d49640e7",
   "metadata": {},
   "outputs": [
    {
     "ename": "KeyboardInterrupt",
     "evalue": "Interrupted by user",
     "output_type": "error",
     "traceback": [
      "\u001b[1;31m---------------------------------------------------------------------------\u001b[0m",
      "\u001b[1;31mKeyboardInterrupt\u001b[0m                         Traceback (most recent call last)",
      "\u001b[1;32m~\\AppData\\Local\\Temp\\ipykernel_34432\\253791964.py\u001b[0m in \u001b[0;36m<module>\u001b[1;34m\u001b[0m\n\u001b[1;32m----> 1\u001b[1;33m \u001b[0ms\u001b[0m\u001b[1;33m=\u001b[0m\u001b[0minput\u001b[0m\u001b[1;33m(\u001b[0m\u001b[1;34m\"enter s\"\u001b[0m\u001b[1;33m)\u001b[0m\u001b[1;33m\u001b[0m\u001b[1;33m\u001b[0m\u001b[0m\n\u001b[0m\u001b[0;32m      2\u001b[0m \u001b[0mreverse\u001b[0m\u001b[1;33m=\u001b[0m\u001b[0ms\u001b[0m\u001b[1;33m[\u001b[0m\u001b[1;33m:\u001b[0m\u001b[1;33m:\u001b[0m\u001b[1;33m-\u001b[0m\u001b[1;36m1\u001b[0m\u001b[1;33m]\u001b[0m\u001b[1;33m\u001b[0m\u001b[1;33m\u001b[0m\u001b[0m\n\u001b[0;32m      3\u001b[0m \u001b[1;32mif\u001b[0m \u001b[0ms\u001b[0m\u001b[1;33m==\u001b[0m\u001b[0mreverse\u001b[0m\u001b[1;33m:\u001b[0m\u001b[1;33m\u001b[0m\u001b[1;33m\u001b[0m\u001b[0m\n\u001b[0;32m      4\u001b[0m     \u001b[0mprint\u001b[0m\u001b[1;33m(\u001b[0m\u001b[1;34m\"palindrome\"\u001b[0m\u001b[1;33m)\u001b[0m\u001b[1;33m\u001b[0m\u001b[1;33m\u001b[0m\u001b[0m\n\u001b[0;32m      5\u001b[0m \u001b[1;32melse\u001b[0m\u001b[1;33m:\u001b[0m\u001b[1;33m\u001b[0m\u001b[1;33m\u001b[0m\u001b[0m\n",
      "\u001b[1;32mC:\\ProgramData\\Anaconda3\\lib\\site-packages\\ipykernel\\kernelbase.py\u001b[0m in \u001b[0;36mraw_input\u001b[1;34m(self, prompt)\u001b[0m\n\u001b[0;32m   1175\u001b[0m                 \u001b[1;34m\"raw_input was called, but this frontend does not support input requests.\"\u001b[0m\u001b[1;33m\u001b[0m\u001b[1;33m\u001b[0m\u001b[0m\n\u001b[0;32m   1176\u001b[0m             )\n\u001b[1;32m-> 1177\u001b[1;33m         return self._input_request(\n\u001b[0m\u001b[0;32m   1178\u001b[0m             \u001b[0mstr\u001b[0m\u001b[1;33m(\u001b[0m\u001b[0mprompt\u001b[0m\u001b[1;33m)\u001b[0m\u001b[1;33m,\u001b[0m\u001b[1;33m\u001b[0m\u001b[1;33m\u001b[0m\u001b[0m\n\u001b[0;32m   1179\u001b[0m             \u001b[0mself\u001b[0m\u001b[1;33m.\u001b[0m\u001b[0m_parent_ident\u001b[0m\u001b[1;33m[\u001b[0m\u001b[1;34m\"shell\"\u001b[0m\u001b[1;33m]\u001b[0m\u001b[1;33m,\u001b[0m\u001b[1;33m\u001b[0m\u001b[1;33m\u001b[0m\u001b[0m\n",
      "\u001b[1;32mC:\\ProgramData\\Anaconda3\\lib\\site-packages\\ipykernel\\kernelbase.py\u001b[0m in \u001b[0;36m_input_request\u001b[1;34m(self, prompt, ident, parent, password)\u001b[0m\n\u001b[0;32m   1217\u001b[0m             \u001b[1;32mexcept\u001b[0m \u001b[0mKeyboardInterrupt\u001b[0m\u001b[1;33m:\u001b[0m\u001b[1;33m\u001b[0m\u001b[1;33m\u001b[0m\u001b[0m\n\u001b[0;32m   1218\u001b[0m                 \u001b[1;31m# re-raise KeyboardInterrupt, to truncate traceback\u001b[0m\u001b[1;33m\u001b[0m\u001b[1;33m\u001b[0m\u001b[0m\n\u001b[1;32m-> 1219\u001b[1;33m                 \u001b[1;32mraise\u001b[0m \u001b[0mKeyboardInterrupt\u001b[0m\u001b[1;33m(\u001b[0m\u001b[1;34m\"Interrupted by user\"\u001b[0m\u001b[1;33m)\u001b[0m \u001b[1;32mfrom\u001b[0m \u001b[1;32mNone\u001b[0m\u001b[1;33m\u001b[0m\u001b[1;33m\u001b[0m\u001b[0m\n\u001b[0m\u001b[0;32m   1220\u001b[0m             \u001b[1;32mexcept\u001b[0m \u001b[0mException\u001b[0m\u001b[1;33m:\u001b[0m\u001b[1;33m\u001b[0m\u001b[1;33m\u001b[0m\u001b[0m\n\u001b[0;32m   1221\u001b[0m                 \u001b[0mself\u001b[0m\u001b[1;33m.\u001b[0m\u001b[0mlog\u001b[0m\u001b[1;33m.\u001b[0m\u001b[0mwarning\u001b[0m\u001b[1;33m(\u001b[0m\u001b[1;34m\"Invalid Message:\"\u001b[0m\u001b[1;33m,\u001b[0m \u001b[0mexc_info\u001b[0m\u001b[1;33m=\u001b[0m\u001b[1;32mTrue\u001b[0m\u001b[1;33m)\u001b[0m\u001b[1;33m\u001b[0m\u001b[1;33m\u001b[0m\u001b[0m\n",
      "\u001b[1;31mKeyboardInterrupt\u001b[0m: Interrupted by user"
     ]
    }
   ],
   "source": [
    "s=input(\"enter s\")\n",
    "reverse=s[::-1]\n",
    "if s==reverse:\n",
    "    print(\"palindrome\")\n",
    "else:\n",
    "    print(\"not palindrome\")\n",
    "    \n",
    "\n"
   ]
  },
  {
   "cell_type": "code",
   "execution_count": null,
   "id": "5a257a21-9c56-46ee-b553-734b8089a4c3",
   "metadata": {},
   "outputs": [],
   "source": [
    "s=input(\"enter s\")\n",
    "n=len(s)\n",
    "rev=\"\"\n",
    "for i in range(n-1,-1,-1):\n",
    "     rev=rev+s[i]\n",
    "print(rev)\n",
    "if rev==s:\n",
    "    print(\"palindrome\")\n",
    "else:\n",
    "    print(\" not palindrome\")\n",
    "    "
   ]
  },
  {
   "cell_type": "code",
   "execution_count": null,
   "id": "c6178cd1-27d3-4aaa-957d-8741edc4d148",
   "metadata": {},
   "outputs": [],
   "source": [
    "str='''Strings in python are surrounded by either single quotation marks, or double quotation marks\n",
    "Strings in python are surrounded by either single quotation marks, or double quotation marks\n",
    "Strings in python are surrounded by either single quotation marks, or double quotation marks\n",
    "Strings in python are surrounded by either single quotation marks, or double quotation marks\n",
    "Strings in python are surrounded by either single quotation marks, or double quotation marks\n",
    "Strings in python are surrounded by either single quotation marks, or double quotation marks'''\n",
    "print(str)"
   ]
  },
  {
   "cell_type": "code",
   "execution_count": null,
   "id": "e60c0dd0-6b40-49d7-8832-e67c01024033",
   "metadata": {},
   "outputs": [],
   "source": [
    "s=\"lalitha\"\n",
    "print(s.upper())"
   ]
  },
  {
   "cell_type": "code",
   "execution_count": null,
   "id": "2ed27cc1-a00f-48ff-80f4-0774212aaf01",
   "metadata": {},
   "outputs": [],
   "source": [
    "s=\"MALLIKA\"\n",
    "print(s.lower())"
   ]
  },
  {
   "cell_type": "code",
   "execution_count": null,
   "id": "efdc0000-5990-4008-b73b-2e2b6b27bbe9",
   "metadata": {},
   "outputs": [],
   "source": [
    "s=\"hi hello how are you\"\n",
    "count=0\n",
    "for i in s.split(\" \"):\n",
    "    count=count+1\n",
    "print(\"no.of words in given string are\",count)"
   ]
  },
  {
   "cell_type": "code",
   "execution_count": null,
   "id": "4419e32c-3473-4d09-964d-d5c48c9f3aa9",
   "metadata": {},
   "outputs": [],
   "source": [
    "s=\"hi hello how are you\"\n",
    "for i in s.split(\" \"):\n",
    "    print(i,\"length is\",len(i))"
   ]
  },
  {
   "cell_type": "code",
   "execution_count": null,
   "id": "90512681-9d21-4fc3-b2e1-a56a167b04c9",
   "metadata": {},
   "outputs": [],
   "source": [
    "s=\"hi hello how are you\"\n",
    "l=[]\n",
    "for i in s.split(\" \"):\n",
    "    l.append(len(i))\n",
    "    \n",
    "maxString=max(l)\n",
    "for i in s.split(\" \"):\n",
    "    if len(i)==maxString:\n",
    "        print(i)\n",
    "\n",
    "    "
   ]
  },
  {
   "cell_type": "code",
   "execution_count": null,
   "id": "c710269f-473a-4e41-8f0c-30202179cc63",
   "metadata": {},
   "outputs": [],
   "source": [
    "s=input(\"enter s value\")\n",
    "if s.islower():\n",
    "     print(s.upper())\n",
    "else:\n",
    "    print(s.lower())"
   ]
  },
  {
   "cell_type": "markdown",
   "id": "ed1c693e-9e45-447a-bd7e-3ba8cb28c55f",
   "metadata": {
    "jp-MarkdownHeadingCollapsed": true,
    "tags": []
   },
   "source": [
    "s=input(\"enter s value\")\n",
    "length=len(s)\n",
    "print(length)\n",
    "for i in range(n-1,-1):\n",
    "    print(s[i])"
   ]
  },
  {
   "cell_type": "code",
   "execution_count": null,
   "id": "920d56bd-3654-4be5-b9f2-5ec0a31548a2",
   "metadata": {},
   "outputs": [],
   "source": [
    "s=input(\"enter s value\")\n",
    "#n=len(s) \n",
    "start=int(input(\"enyter sart index\"))\n",
    "end=int(input(\"Enter last index\"))\n",
    "for i in range(start,end): \n",
    "    print(s[i],end=\"\")"
   ]
  },
  {
   "cell_type": "code",
   "execution_count": null,
   "id": "549becf9-3b55-4391-bc33-728f25856b46",
   "metadata": {},
   "outputs": [],
   "source": [
    "s.find():\n",
    "    print(i)"
   ]
  },
  {
   "cell_type": "code",
   "execution_count": null,
   "id": "0930e4ee-487e-4b8f-af6c-3c15c18dfc02",
   "metadata": {},
   "outputs": [],
   "source": [
    "s=\"mallika\"\n",
    "print(s.capitalize())\n"
   ]
  },
  {
   "cell_type": "code",
   "execution_count": null,
   "id": "e1b2fc9e-2619-4a8a-ba14-4510cc557464",
   "metadata": {},
   "outputs": [],
   "source": [
    "s=input(\"enter name\")\n",
    "print(s.capitalize())"
   ]
  },
  {
   "cell_type": "code",
   "execution_count": null,
   "id": "8da6c4d3-ae4f-45ba-9497-cefb56683dca",
   "metadata": {},
   "outputs": [],
   "source": [
    "s=input(\"enter string\")\n",
    "print(s.find(input(\"enter substring for search\")))\n",
    "    \n"
   ]
  },
  {
   "cell_type": "code",
   "execution_count": null,
   "id": "bfae143d-a22f-47a8-88f9-0c4c0db446e1",
   "metadata": {},
   "outputs": [],
   "source": [
    "s=(\"enter string\")\n"
   ]
  },
  {
   "cell_type": "code",
   "execution_count": null,
   "id": "33a423fe-20cc-4a3a-8388-f97c930ffcdd",
   "metadata": {},
   "outputs": [],
   "source": [
    "lalitha"
   ]
  },
  {
   "cell_type": "code",
   "execution_count": null,
   "id": "110a63a5-4cfa-4c2f-9c73-152b205ae5e8",
   "metadata": {},
   "outputs": [],
   "source": [
    "s=\"lalitha\"\n",
    "count=0\n",
    "for i in s:\n",
    "    if i=='l':\n",
    "        count=count+1\n",
    "print(count)\n",
    "    "
   ]
  },
  {
   "cell_type": "code",
   "execution_count": null,
   "id": "9d1729df-6649-4fb4-ba20-dbb3ff91115d",
   "metadata": {},
   "outputs": [],
   "source": [
    "S=\"lalitha\"\n",
    "print(s.count('l'))"
   ]
  },
  {
   "cell_type": "code",
   "execution_count": null,
   "id": "c2fd9b22-3b96-434c-a932-fa151e6c1ced",
   "metadata": {},
   "outputs": [],
   "source": [
    "s=\"lalitha\"\n",
    "print(s.find(\"mallika\"))"
   ]
  },
  {
   "cell_type": "code",
   "execution_count": null,
   "id": "21627dd5-b8ec-47ba-8eb1-c213bd09ef0b",
   "metadata": {},
   "outputs": [],
   "source": [
    "str=input(\"enter string\")\n",
    "for i in str:\n",
    "    if i.isalpha():\n",
    "        print(i,end=\"\")\n",
    "for i in str:\n",
    "    if i.isdigit():\n",
    "        print(i,end=\"\")"
   ]
  },
  {
   "cell_type": "code",
   "execution_count": null,
   "id": "921f2424-c7c9-4792-8c00-7c0824a1aa51",
   "metadata": {},
   "outputs": [],
   "source": [
    "str=input(\"enter string\")\n",
    "ucount=acount=dcount=scount=0\n",
    "for i in str:\n",
    "    if i.isupper():\n",
    "        ucount=ucount+1\n",
    "    elif i.isalpha():\n",
    "        acount=acount+1\n",
    "    elif i.isdigit():\n",
    "        dcount=dcount+1\n",
    "    elif i.isspace():\n",
    "        scount=scount+1\n",
    "print(\"number of upper case letters\",ucount)\n",
    "print(\"number of alphabets\",acount)\n",
    "print(\"number of digits\",dcount)\n",
    "print(\"number of spaces\",scount)\n",
    "    \n"
   ]
  },
  {
   "cell_type": "code",
   "execution_count": null,
   "id": "a5d50ef8-2c86-43bd-9f3f-9a219e037697",
   "metadata": {},
   "outputs": [],
   "source": [
    "s=\"250null\"\n",
    "print(s.isascii())\n",
    "    \n",
    "    "
   ]
  },
  {
   "cell_type": "code",
   "execution_count": null,
   "id": "441444b1-cb7b-4d54-b4a1-28f3496509ac",
   "metadata": {},
   "outputs": [],
   "source": [
    "s=\"lalitha\"\n",
    "for i in s:\n",
    "    print(ord(i))"
   ]
  },
  {
   "cell_type": "code",
   "execution_count": null,
   "id": "dbadf3b9-8831-4faf-b24b-59bce95906e4",
   "metadata": {},
   "outputs": [],
   "source": [
    "myTuple = (\"23\", \"03\", \"2023\")\n",
    "\n",
    "x = \"-\".join(myTuple)\n",
    "\n",
    "print(x)\n"
   ]
  },
  {
   "cell_type": "code",
   "execution_count": null,
   "id": "eb34253e-1480-4873-a3f5-ffa8f4f77bb3",
   "metadata": {},
   "outputs": [],
   "source": [
    "str=\"malilka\"\n",
    "print(str.replace(\"a\",\"@\"))"
   ]
  },
  {
   "cell_type": "code",
   "execution_count": null,
   "id": "9d3fdd3e-cee2-421c-a119-8ab84f5cf876",
   "metadata": {},
   "outputs": [],
   "source": [
    "str=\"mallikal\"\n",
    "print(str.rindex(\"l\"))"
   ]
  },
  {
   "cell_type": "code",
   "execution_count": null,
   "id": "80681e70-1851-44a5-a0a4-0f6ebdebe3fd",
   "metadata": {},
   "outputs": [],
   "source": [
    "txt = \"For only {price:.3f} dollars! and {qty:d}\"\n",
    "print(txt.format(price = 49,qty=12))\n"
   ]
  },
  {
   "cell_type": "code",
   "execution_count": null,
   "id": "dae07157-3fac-4ffb-aeaf-f5fc63490375",
   "metadata": {},
   "outputs": [],
   "source": [
    "s=input(\"enter string\")\n",
    "print(len(s))\n",
    "print(s.find(input(\"enter range\")))"
   ]
  },
  {
   "cell_type": "raw",
   "id": "330bd51e-1f2a-4d60-bb25-d66e4f61d64e",
   "metadata": {},
   "source": [
    "s=input(\"enter string\")\n",
    "print(s.index(input(\"enter range\")))"
   ]
  },
  {
   "cell_type": "code",
   "execution_count": null,
   "id": "cf884e82-df62-4bc9-b4a4-76e001ea583f",
   "metadata": {},
   "outputs": [],
   "source": [
    "s=input(\"enter string\")\n",
    "print(len(s))\n",
    "print(s.find(input(\"enter range\"),1,9))"
   ]
  },
  {
   "cell_type": "raw",
   "id": "3838d35c-8f3f-4be3-9034-8ba922acb49a",
   "metadata": {},
   "source": [
    "s=input(\"enter string\")\n",
    "print(s.index(input(\"enter range\")))"
   ]
  },
  {
   "cell_type": "code",
   "execution_count": null,
   "id": "6c8041a3-7b11-4c78-af14-9fc0e785f7ca",
   "metadata": {},
   "outputs": [],
   "source": [
    "s=\"name of girl is{name} with the age of{age}\"\n",
    "print(s.format(name=input(),age=input()))"
   ]
  },
  {
   "cell_type": "markdown",
   "id": "0554dc39-2d4d-4e1f-a8d6-ca9bb704dbdc",
   "metadata": {},
   "source": [
    "def add():\n",
    "a=10\n",
    "b=20\n",
    "sum=a+b\n",
    "print(sum)\n",
    "\n",
    "add()\n",
    "\n"
   ]
  },
  {
   "cell_type": "code",
   "execution_count": null,
   "id": "c4660f08-42d2-45eb-9a24-1e9a256308a2",
   "metadata": {},
   "outputs": [],
   "source": [
    "def add():\n",
    "    a=10\n",
    "    b=20\n",
    "    sum=a+b\n",
    "    print(sum)\n",
    "add()\n"
   ]
  },
  {
   "cell_type": "code",
   "execution_count": null,
   "id": "1bbe3b06-b0fc-41ea-b77c-f5e05682b70b",
   "metadata": {},
   "outputs": [],
   "source": [
    "def add(a,b):\n",
    "    print(a+b)\n",
    "add(int(input()),int(input()))"
   ]
  },
  {
   "cell_type": "code",
   "execution_count": null,
   "id": "b8996688-adb2-4499-bff3-c7639737b637",
   "metadata": {},
   "outputs": [],
   "source": [
    "def add(a,b):\n",
    "    print((a+b))\n",
    "def sub(a,b):\n",
    "    print((a-b))\n",
    "def mul(a,b):\n",
    "    print(a*b)\n",
    "def div(a,b):\n",
    "    print(a/b)\n",
    "\n",
    "while(True):\n",
    "    print(\"*********Operations************\\n1.Addition\\n2.Subtraction\\n3.Multiplication\\n4.Division\")\n",
    "    choice=int(input(\"Enter your choice\"))                           \n",
    "    if(choice==1):\n",
    "        add(int(input(\"enter num1\")),int(input(\"enter num2\")))\n",
    "    if(choice==2):\n",
    "        sub(int(input(\"enter num1\")),int(input(\"enter num2\")))\n",
    "    if(choice==3):\n",
    "        mul(int(input(\"enter num1\")),int(input(\"enter num2\")))\n",
    "    if(choice==4):\n",
    "        div(int(input(\"enter num1\")),int(input(\"enter num2\")))\n",
    "    print(\"do you want to continue\")\n",
    "    option=input()\n",
    "    if(option=='n'):\n",
    "        print(\"Thank you\")\n",
    "        break;\n",
    "    \n",
    "\n",
    "    "
   ]
  },
  {
   "cell_type": "code",
   "execution_count": null,
   "id": "95e3e544-e507-4d32-89de-6347c8b90b28",
   "metadata": {},
   "outputs": [],
   "source": [
    "def printNumbers():\n",
    "    for i in range(1,11):\n",
    "        print(i)\n",
    "printNumbers()"
   ]
  },
  {
   "cell_type": "code",
   "execution_count": null,
   "id": "e906b439-becb-4b36-a159-2c3d6afa7151",
   "metadata": {},
   "outputs": [],
   "source": [
    "def printNumbers():\n",
    "    i=1\n",
    "    while(i<=10):\n",
    "        print(i)\n",
    "        i=i+1\n",
    "printNumbers()"
   ]
  },
  {
   "cell_type": "code",
   "execution_count": null,
   "id": "cd655ac0-7d53-4a49-a1da-beaaab60bd0a",
   "metadata": {},
   "outputs": [],
   "source": [
    "def evenNumbers():\n",
    "    i=1\n",
    "    while(i<=12):\n",
    "        if(i%2==0):\n",
    "            print(i)\n",
    "        i=i+1\n",
    "evenNumbers()"
   ]
  },
  {
   "cell_type": "code",
   "execution_count": null,
   "id": "cb0f7c14-cc31-4e32-a4e9-d0a1c2ebccd3",
   "metadata": {},
   "outputs": [],
   "source": [
    "# atm operation\n",
    "def withdraw(amount,total):\n",
    "    total=total-amount\n",
    "    return total\n",
    "def deposit(amount,total):\n",
    "    total=total+amount\n",
    "    return total\n",
    "def checkbalance(total):\n",
    "    print(total)\n",
    "def pinchange(oldpin,newpin):\n",
    "    if(oldpin!=newpin):\n",
    "        print(newpin)\n",
    "total=30000\n",
    "count=0\n",
    "while(True):\n",
    "    print(\"********WELCOME TO ATM********\\n1.WITHDRAW\\n2.DEPOSIT\\n3.CHECK BALANCE\\n4.PIN CHANGE\")\n",
    "    \n",
    "    choice=int(input(\"enter your choice\"))\n",
    "    if(choice==1):\n",
    "        count=count+1\n",
    "        if(count>3):\n",
    "            print(\"limit exceeded\")\n",
    "            continue\n",
    "        total=withdraw(int(input(\"enter withdrawl amount\")),total)\n",
    "        print(total)\n",
    "        \n",
    "    elif(choice==2):\n",
    "        total=deposit(int(input(\"enter deposit amount\")),total)\n",
    "        print(total)\n",
    "    elif(choice==3):\n",
    "        checkbalance(total)\n",
    "    elif(choice==4):\n",
    "        pinchange(int(input(\"enter old pin\")),int(input(\"enter newpin\")))        \n",
    "    print(\"do you want to continue\")\n",
    "    option=input()\n",
    "    if(option=='n'):\n",
    "        print(\"Thank you\")\n",
    "        break;\n",
    "                  "
   ]
  },
  {
   "cell_type": "code",
   "execution_count": null,
   "id": "db05a050-2d4c-4119-b853-6da5c3a53587",
   "metadata": {},
   "outputs": [],
   "source": []
  },
  {
   "cell_type": "code",
   "execution_count": null,
   "id": "87a5f3e0-e067-4fc1-b12d-f64316f7457e",
   "metadata": {},
   "outputs": [],
   "source": [
    "# List\n",
    "# 1.It is used to store list of values\n",
    "# 2.each value is indexed\n",
    "# 3.list is mutable(changeble)\n",
    "#4.list represented in [] brackets\n",
    "\n",
    "list=[12,\"lalitha\",12.34,56]\n",
    "print(list[1])\n",
    "list1=list[1:3]\n",
    "print(list1)\n",
    "for i in list:\n",
    "    print(i)\n"
   ]
  },
  {
   "cell_type": "code",
   "execution_count": null,
   "id": "857bdc07-ed30-4ab9-96cd-7a1c73aa9aff",
   "metadata": {},
   "outputs": [],
   "source": [
    "list=[12,23,34,56]\n",
    "list1=[23,45,56,78]\n",
    "list2=list+list1\n",
    "print(list2)"
   ]
  },
  {
   "cell_type": "code",
   "execution_count": null,
   "id": "0840ad51-5f4d-4314-94c1-b4a6f306d562",
   "metadata": {},
   "outputs": [],
   "source": [
    "list=[12,23,34,56]\n",
    "list1=[12,23,34,56]\n",
    "count=0\n",
    "if list==list1:\n",
    "    print(\"lists are equal\")\n",
    "else:\n",
    "    print(\"not equal\")"
   ]
  },
  {
   "cell_type": "code",
   "execution_count": null,
   "id": "34b05eb7-f5f1-4a2a-949e-665f93e5949c",
   "metadata": {},
   "outputs": [],
   "source": [
    "list=[12,23,34,56]\n",
    "list1=[23,45,56,78]\n",
    "count=0\n",
    "for i in list:\n",
    "    if i in list1:\n",
    "        print(i)\n",
    "        count=count+1\n",
    "print(\"no.of common values are \",count)"
   ]
  },
  {
   "cell_type": "code",
   "execution_count": null,
   "id": "9bab850c-5abb-4491-a045-4364f40bf23b",
   "metadata": {},
   "outputs": [],
   "source": [
    "l=[]\n",
    "for i in range(0,5):\n",
    "    l.append(int(input(\"Enter\")))\n",
    "print(l)"
   ]
  },
  {
   "cell_type": "code",
   "execution_count": 2,
   "id": "cb68b557-82d0-4daa-a88c-37eba408a615",
   "metadata": {},
   "outputs": [
    {
     "name": "stdin",
     "output_type": "stream",
     "text": [
      "enter size 4\n",
      "enter values 12\n",
      "enter values 33\n",
      "enter values 12\n",
      "enter values 45\n"
     ]
    },
    {
     "name": "stdout",
     "output_type": "stream",
     "text": [
      "[12, 33, 12, 45]\n",
      "102\n"
     ]
    }
   ],
   "source": [
    "l=[]\n",
    "n=int(input(\"enter size\"))\n",
    "for i in range(0,n):\n",
    "    l.append(int(input(\"enter values\")))\n",
    "print(l)\n",
    "l1=sum(l)\n",
    "print(l1)\n"
   ]
  },
  {
   "cell_type": "code",
   "execution_count": 12,
   "id": "2b5e814e-9cab-4e3e-afad-eb7f4353480f",
   "metadata": {},
   "outputs": [
    {
     "name": "stdout",
     "output_type": "stream",
     "text": [
      "original List  [10, 20, 30, 10, 40]\n",
      "after remove duplicates  [10, 20, 30, 40]\n"
     ]
    }
   ],
   "source": [
    "def removeDuplicates(list):\n",
    "    list1=[]\n",
    "    for i in list:\n",
    "        if i not in list1:\n",
    "            list1.append(i)\n",
    "    return list1\n",
    "list=[10,20,30,10,40]\n",
    "print(\"original List \",list)\n",
    "print(\"after remove duplicates \",removeDuplicates(list))\n",
    "            "
   ]
  },
  {
   "cell_type": "code",
   "execution_count": 25,
   "id": "885128fd-87ef-493e-a0c6-8686ec4ef54c",
   "metadata": {},
   "outputs": [
    {
     "name": "stdin",
     "output_type": "stream",
     "text": [
      "enter size 4\n",
      "enter values 34\n"
     ]
    },
    {
     "name": "stdout",
     "output_type": "stream",
     "text": [
      "[34]\n"
     ]
    },
    {
     "name": "stdin",
     "output_type": "stream",
     "text": [
      "enter values 24\n"
     ]
    },
    {
     "name": "stdout",
     "output_type": "stream",
     "text": [
      "[34, 24]\n"
     ]
    },
    {
     "name": "stdin",
     "output_type": "stream",
     "text": [
      "enter values 56\n"
     ]
    },
    {
     "name": "stdout",
     "output_type": "stream",
     "text": [
      "[34, 24, 56]\n"
     ]
    },
    {
     "name": "stdin",
     "output_type": "stream",
     "text": [
      "enter values 12\n"
     ]
    },
    {
     "name": "stdout",
     "output_type": "stream",
     "text": [
      "[34, 24, 56, 12]\n",
      "[34, 24, 8, 56, 12]\n"
     ]
    }
   ],
   "source": [
    "def addelement(list):\n",
    "    list=[]\n",
    "    n=int(input(\"enter size\")) \n",
    "    for i in range(0,n):\n",
    "        list.append(int(input(\"enter values\")))\n",
    "        print(list)\n",
    "    list.insert(2,8)\n",
    "    print(list)\n",
    "addelement(list)\n",
    "    "
   ]
  },
  {
   "cell_type": "code",
   "execution_count": 6,
   "id": "02f920b3-f57b-4c5f-b04d-946c8481d605",
   "metadata": {},
   "outputs": [
    {
     "name": "stdout",
     "output_type": "stream",
     "text": [
      "[12, 34, 67, 56, 90]\n"
     ]
    }
   ],
   "source": [
    "list=[12,34,56,90]\n",
    "list.insert(2,67)\n",
    "print(list)"
   ]
  },
  {
   "cell_type": "code",
   "execution_count": 10,
   "id": "cc00e5e8-ad40-40c6-9628-95e85e335965",
   "metadata": {},
   "outputs": [
    {
     "name": "stdout",
     "output_type": "stream",
     "text": [
      "[12, 34, 89, 90]\n"
     ]
    }
   ],
   "source": [
    "list=[34,12,89,90]\n",
    "list.sort()\n",
    "print(list)"
   ]
  },
  {
   "cell_type": "code",
   "execution_count": 12,
   "id": "691512f5-e3c3-4b60-9da6-6916e9748fba",
   "metadata": {},
   "outputs": [
    {
     "name": "stdout",
     "output_type": "stream",
     "text": [
      "[90, 89, 34, 12]\n"
     ]
    }
   ],
   "source": [
    "list=[34,12,89,90]\n",
    "list.sort(reverse=True)\n",
    "print(list)\n"
   ]
  },
  {
   "cell_type": "code",
   "execution_count": 13,
   "id": "81d113e7-e77e-494e-aae3-91b1271ec699",
   "metadata": {},
   "outputs": [
    {
     "name": "stdin",
     "output_type": "stream",
     "text": [
      "enter n value 4\n",
      "enter values 23\n"
     ]
    },
    {
     "name": "stdout",
     "output_type": "stream",
     "text": [
      "[23]\n"
     ]
    },
    {
     "name": "stdin",
     "output_type": "stream",
     "text": [
      "enter values 22\n"
     ]
    },
    {
     "name": "stdout",
     "output_type": "stream",
     "text": [
      "[23, 22]\n"
     ]
    },
    {
     "name": "stdin",
     "output_type": "stream",
     "text": [
      "enter values 15\n"
     ]
    },
    {
     "name": "stdout",
     "output_type": "stream",
     "text": [
      "[23, 22, 15]\n"
     ]
    },
    {
     "name": "stdin",
     "output_type": "stream",
     "text": [
      "enter values 56\n"
     ]
    },
    {
     "name": "stdout",
     "output_type": "stream",
     "text": [
      "[23, 22, 15, 56]\n",
      "[56, 23, 22, 15]\n"
     ]
    }
   ],
   "source": [
    "def sortelements(list):\n",
    "    list=[]\n",
    "    n=int(input(\"enter n value\"))\n",
    "    for i in range(0,n):\n",
    "        list.append(int(input(\"enter values\")))\n",
    "        print(list)\n",
    "    list.sort(reverse=True)\n",
    "    print(list)\n",
    "sortelements(list)\n"
   ]
  },
  {
   "cell_type": "code",
   "execution_count": 36,
   "id": "fa8ffcf5-c812-4be5-a692-a24c7a1bac60",
   "metadata": {},
   "outputs": [
    {
     "name": "stdin",
     "output_type": "stream",
     "text": [
      "enter n value 3\n",
      "enter values 1\n"
     ]
    },
    {
     "name": "stdout",
     "output_type": "stream",
     "text": [
      "[1]\n"
     ]
    },
    {
     "name": "stdin",
     "output_type": "stream",
     "text": [
      "enter values 2\n"
     ]
    },
    {
     "name": "stdout",
     "output_type": "stream",
     "text": [
      "[1, 2]\n"
     ]
    },
    {
     "name": "stdin",
     "output_type": "stream",
     "text": [
      "enter values 3\n"
     ]
    },
    {
     "name": "stdout",
     "output_type": "stream",
     "text": [
      "[1, 2, 3]\n",
      "[1, 2, 3]\n"
     ]
    }
   ],
   "source": [
    "def sortelements(list):\n",
    "    list=[]\n",
    "    n=int(input(\"enter n value\"))\n",
    "    for i in range(0,n):\n",
    "        list.append(int(input(\"enter values\")))\n",
    "        print(list)\n",
    "    list.sort()\n",
    "    print(list)\n",
    "sortelements(list)\n"
   ]
  },
  {
   "cell_type": "code",
   "execution_count": 29,
   "id": "50f50390-ac3c-4e68-a682-d8e15bdc3848",
   "metadata": {},
   "outputs": [
    {
     "name": "stdout",
     "output_type": "stream",
     "text": [
      "maximum element is 78\n",
      "minimum element is 12\n"
     ]
    }
   ],
   "source": [
    "list=[23,56,78,12]\n",
    "print(\"maximum element is\",max(list))\n",
    "print(\"minimum element is\",min(list))"
   ]
  },
  {
   "cell_type": "code",
   "execution_count": 42,
   "id": "db7aa72f-4618-430c-ac6a-239f36475989",
   "metadata": {},
   "outputs": [
    {
     "ename": "TypeError",
     "evalue": "'int' object is not callable",
     "output_type": "error",
     "traceback": [
      "\u001b[1;31m---------------------------------------------------------------------------\u001b[0m",
      "\u001b[1;31mTypeError\u001b[0m                                 Traceback (most recent call last)",
      "\u001b[1;32m~\\AppData\\Local\\Temp\\ipykernel_14316\\2924069613.py\u001b[0m in \u001b[0;36m<module>\u001b[1;34m\u001b[0m\n\u001b[0;32m      1\u001b[0m \u001b[0mlist\u001b[0m\u001b[1;33m=\u001b[0m\u001b[1;33m[\u001b[0m\u001b[1;36m45\u001b[0m\u001b[1;33m,\u001b[0m\u001b[1;36m76\u001b[0m\u001b[1;33m,\u001b[0m\u001b[1;36m84\u001b[0m\u001b[1;33m,\u001b[0m\u001b[1;36m23\u001b[0m\u001b[1;33m,\u001b[0m\u001b[1;36m2\u001b[0m\u001b[1;33m]\u001b[0m\u001b[1;33m\u001b[0m\u001b[1;33m\u001b[0m\u001b[0m\n\u001b[1;32m----> 2\u001b[1;33m \u001b[0mmax\u001b[0m\u001b[1;33m=\u001b[0m\u001b[0mlist\u001b[0m\u001b[1;33m.\u001b[0m\u001b[0mindex\u001b[0m\u001b[1;33m(\u001b[0m\u001b[0mmax\u001b[0m\u001b[1;33m(\u001b[0m\u001b[0mlist\u001b[0m\u001b[1;33m)\u001b[0m\u001b[1;33m)\u001b[0m\u001b[1;33m\u001b[0m\u001b[1;33m\u001b[0m\u001b[0m\n\u001b[0m\u001b[0;32m      3\u001b[0m \u001b[0mmin\u001b[0m\u001b[1;33m=\u001b[0m\u001b[0mlist\u001b[0m\u001b[1;33m.\u001b[0m\u001b[0mindex\u001b[0m\u001b[1;33m(\u001b[0m\u001b[0mmin\u001b[0m\u001b[1;33m(\u001b[0m\u001b[0mlist\u001b[0m\u001b[1;33m)\u001b[0m\u001b[1;33m)\u001b[0m\u001b[1;33m\u001b[0m\u001b[1;33m\u001b[0m\u001b[0m\n\u001b[0;32m      4\u001b[0m \u001b[0mprint\u001b[0m\u001b[1;33m(\u001b[0m\u001b[1;34m\"position of maximum number is\"\u001b[0m\u001b[1;33m,\u001b[0m\u001b[0mmax\u001b[0m\u001b[1;33m)\u001b[0m\u001b[1;33m\u001b[0m\u001b[1;33m\u001b[0m\u001b[0m\n\u001b[0;32m      5\u001b[0m \u001b[0mprint\u001b[0m\u001b[1;33m(\u001b[0m\u001b[1;34m\"position of minimum number is\"\u001b[0m\u001b[1;33m,\u001b[0m\u001b[0mmin\u001b[0m\u001b[1;33m)\u001b[0m\u001b[1;33m\u001b[0m\u001b[1;33m\u001b[0m\u001b[0m\n",
      "\u001b[1;31mTypeError\u001b[0m: 'int' object is not callable"
     ]
    }
   ],
   "source": [
    "list=[45,76,84,23,2]\n",
    "max=list.index(max(list))\n",
    "min=list.index(min(list))\n",
    "print(\"position of maximum number is\",max)\n",
    "print(\"position of minimum number is\",min)"
   ]
  },
  {
   "cell_type": "code",
   "execution_count": 43,
   "id": "05cb4dbc-9ed4-4e20-aeed-83364d5a3caf",
   "metadata": {},
   "outputs": [
    {
     "ename": "TypeError",
     "evalue": "'int' object is not callable",
     "output_type": "error",
     "traceback": [
      "\u001b[1;31m---------------------------------------------------------------------------\u001b[0m",
      "\u001b[1;31mTypeError\u001b[0m                                 Traceback (most recent call last)",
      "\u001b[1;32m~\\AppData\\Local\\Temp\\ipykernel_14316\\2175802883.py\u001b[0m in \u001b[0;36m<module>\u001b[1;34m\u001b[0m\n\u001b[0;32m      1\u001b[0m \u001b[0ma\u001b[0m \u001b[1;33m=\u001b[0m \u001b[1;33m(\u001b[0m\u001b[1;36m1\u001b[0m\u001b[1;33m,\u001b[0m \u001b[1;36m5\u001b[0m\u001b[1;33m,\u001b[0m \u001b[1;36m3\u001b[0m\u001b[1;33m,\u001b[0m \u001b[1;36m9\u001b[0m\u001b[1;33m)\u001b[0m\u001b[1;33m\u001b[0m\u001b[1;33m\u001b[0m\u001b[0m\n\u001b[1;32m----> 2\u001b[1;33m \u001b[0mprint\u001b[0m\u001b[1;33m(\u001b[0m\u001b[1;33m(\u001b[0m\u001b[0mmin\u001b[0m\u001b[1;33m(\u001b[0m\u001b[0ma\u001b[0m\u001b[1;33m)\u001b[0m\u001b[1;33m)\u001b[0m\u001b[1;33m)\u001b[0m\u001b[1;33m\u001b[0m\u001b[1;33m\u001b[0m\u001b[0m\n\u001b[0m\u001b[0;32m      3\u001b[0m \u001b[1;33m\u001b[0m\u001b[0m\n",
      "\u001b[1;31mTypeError\u001b[0m: 'int' object is not callable"
     ]
    }
   ],
   "source": [
    "a = (1, 5, 3, 9)\n",
    "print((min(a)))\n",
    "\n"
   ]
  },
  {
   "cell_type": "code",
   "execution_count": 28,
   "id": "f971788a-a617-45c2-b65e-eb51f45ec232",
   "metadata": {},
   "outputs": [
    {
     "name": "stdout",
     "output_type": "stream",
     "text": [
      "[1, 22, 31, 31, 2, 'did', 'sum']\n"
     ]
    }
   ],
   "source": [
    "l=[1,22,31,31,2]\n",
    "l2=['did','sum']\n",
    "l.extend(l2)\n",
    "print(l)"
   ]
  },
  {
   "cell_type": "code",
   "execution_count": 41,
   "id": "941e33e0-8520-40ff-b095-4de243e0112c",
   "metadata": {},
   "outputs": [
    {
     "name": "stdout",
     "output_type": "stream",
     "text": [
      "[45, 23, 42, 67]\n"
     ]
    }
   ],
   "source": [
    "l=[45,23,42,56,67]\n",
    "l.pop(3)\n",
    "print(l)"
   ]
  },
  {
   "cell_type": "code",
   "execution_count": null,
   "id": "9f102f2e-fce6-43cc-b112-29ccd266248d",
   "metadata": {},
   "outputs": [],
   "source": []
  }
 ],
 "metadata": {
  "kernelspec": {
   "display_name": "Python 3 (ipykernel)",
   "language": "python",
   "name": "python3"
  },
  "language_info": {
   "codemirror_mode": {
    "name": "ipython",
    "version": 3
   },
   "file_extension": ".py",
   "mimetype": "text/x-python",
   "name": "python",
   "nbconvert_exporter": "python",
   "pygments_lexer": "ipython3",
   "version": "3.9.13"
  }
 },
 "nbformat": 4,
 "nbformat_minor": 5
}
